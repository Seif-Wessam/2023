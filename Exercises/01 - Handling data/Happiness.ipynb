{
 "cells": [
  {
   "cell_type": "markdown",
   "metadata": {},
   "source": [
    "## Data from World Happiness Report\n",
    "\n",
    "The World Happiness Report is an annual publication of the United Nations Sustainable Development Solutions Network. It contains articles, and rankings of national happiness based on respondent ratings of their own lives, which the report also correlates with various life factors.\n",
    "\n",
    "In this notebook we will explore the happiness of different countries and the features associated.\n",
    "The datasets that we will use are available in *Data*: **happiness2020.pkl** and **countries_info.csv**.\n",
    "\n",
    "Although the features are self-explanatory, here a summary: \n",
    "\n",
    "**happiness2020.pkl**\n",
    "* country: *Name of the country*\n",
    "* happiness_score: *Happiness score*\n",
    "* social_support: *Social support (mitigation the effects of inequality)*\n",
    "* healthy_life_expectancy: *Healthy Life Expectancy*\n",
    "* freedom_of_choices: *Freedom to make life choices*\n",
    "* generosity: *Generosity (charity, volunteers)*\n",
    "* perception_of_corruption: *Corruption Perception*\n",
    "* world_region: *Area of the world of the country*\n",
    "\n",
    "**countries_info.csv**\n",
    "* country_name: *Name of the country*\n",
    "* area: *Area in sq mi*\n",
    "* population: *Number of people*\n",
    "* literacy: *Literacy percentage*"
   ]
  },
  {
   "cell_type": "code",
   "execution_count": 110,
   "metadata": {},
   "outputs": [
    {
     "name": "stderr",
     "output_type": "stream",
     "text": [
      "'head' is not recognized as an internal or external command,\n",
      "operable program or batch file.\n"
     ]
    }
   ],
   "source": [
    "!head Data/countries_info.csv"
   ]
  },
  {
   "cell_type": "code",
   "execution_count": 111,
   "metadata": {},
   "outputs": [],
   "source": [
    "import pandas as pd\n",
    "%matplotlib inline\n",
    "\n",
    "DATA_FOLDER = 'Data/'\n",
    "\n",
    "HAPPINESS_DATASET = DATA_FOLDER+\"happiness2020.csv\"\n",
    "COUNTRIES_DATASET = DATA_FOLDER+\"countries_info.csv\""
   ]
  },
  {
   "cell_type": "markdown",
   "metadata": {},
   "source": [
    "## Task 1: Load the data\n",
    "\n",
    "Load the 2 datasets in Pandas dataframes (called *happiness* and *countries*), and show the first rows.\n",
    "\n",
    "\n",
    "**Hint**: Use the correct reader and verify the data has the expected format."
   ]
  },
  {
   "cell_type": "code",
   "execution_count": 112,
   "metadata": {},
   "outputs": [
    {
     "name": "stdout",
     "output_type": "stream",
     "text": [
      "       country  happiness_score  social_support  healthy_life_expectancy  \\\n",
      "0  Afghanistan           2.5669        0.470367                52.590000   \n",
      "1      Albania           4.8827        0.671070                68.708138   \n",
      "2      Algeria           5.0051        0.803385                65.905174   \n",
      "3    Argentina           5.9747        0.900568                68.803802   \n",
      "4      Armenia           4.6768        0.757479                66.750656   \n",
      "\n",
      "   freedom_of_choices  generosity  perception_of_corruption  \\\n",
      "0            0.396573   -0.096429                  0.933687   \n",
      "1            0.781994   -0.042309                  0.896304   \n",
      "2            0.466611   -0.121105                  0.735485   \n",
      "3            0.831132   -0.194914                  0.842010   \n",
      "4            0.712018   -0.138780                  0.773545   \n",
      "\n",
      "                         world_region  \n",
      "0                          South Asia  \n",
      "1          Central and Eastern Europe  \n",
      "2        Middle East and North Africa  \n",
      "3         Latin America and Caribbean  \n",
      "4  Commonwealth of Independent States  \n",
      "  country_name     area  population  literacy\n",
      "0  Afghanistan   647500    31056997      36.0\n",
      "1      Albania    28748     3581655      86.5\n",
      "2      Algeria  2381740    32930091      70.0\n",
      "3    Argentina  2766890    39921833      97.1\n",
      "4      Armenia    29800     2976372      98.6\n"
     ]
    }
   ],
   "source": [
    "# Write your code here\n",
    "happiness = pd.read_csv(HAPPINESS_DATASET)\n",
    "countries = pd.read_csv(COUNTRIES_DATASET, decimal=',')\n",
    "#print(happiness.head())\n",
    "#print(countries.head())\n",
    "\"\"\"U 1st capitalize, then sort the two together to ensure they have perfectly the same values, then you can merge!\"\"\"\n",
    "happiness.country = happiness.country.str.capitalize() \n",
    "countries.country_name = countries.country_name.str.capitalize()\n",
    "happiness.sort_values(by='country')\n",
    "countries.sort_values(by='country_name')\n",
    "print(happiness.head())\n",
    "print(countries.head())"
   ]
  },
  {
   "cell_type": "markdown",
   "metadata": {},
   "source": [
    "## Task 2: Let's merge the data\n",
    "\n",
    "Create a dataframe called *country_features* by merging *happiness* and *countries*. A row of this dataframe must describe all the features that we have about a country.\n",
    "\n",
    "**Hint**: Verify that all the rows are in the final dataframe."
   ]
  },
  {
   "cell_type": "code",
   "execution_count": 113,
   "metadata": {},
   "outputs": [
    {
     "data": {
      "text/html": [
       "<div>\n",
       "<style scoped>\n",
       "    .dataframe tbody tr th:only-of-type {\n",
       "        vertical-align: middle;\n",
       "    }\n",
       "\n",
       "    .dataframe tbody tr th {\n",
       "        vertical-align: top;\n",
       "    }\n",
       "\n",
       "    .dataframe thead th {\n",
       "        text-align: right;\n",
       "    }\n",
       "</style>\n",
       "<table border=\"1\" class=\"dataframe\">\n",
       "  <thead>\n",
       "    <tr style=\"text-align: right;\">\n",
       "      <th></th>\n",
       "      <th>happiness_score</th>\n",
       "      <th>social_support</th>\n",
       "      <th>healthy_life_expectancy</th>\n",
       "      <th>freedom_of_choices</th>\n",
       "      <th>generosity</th>\n",
       "      <th>perception_of_corruption</th>\n",
       "      <th>world_region</th>\n",
       "      <th>area</th>\n",
       "      <th>population</th>\n",
       "      <th>literacy</th>\n",
       "    </tr>\n",
       "    <tr>\n",
       "      <th>country</th>\n",
       "      <th></th>\n",
       "      <th></th>\n",
       "      <th></th>\n",
       "      <th></th>\n",
       "      <th></th>\n",
       "      <th></th>\n",
       "      <th></th>\n",
       "      <th></th>\n",
       "      <th></th>\n",
       "      <th></th>\n",
       "    </tr>\n",
       "  </thead>\n",
       "  <tbody>\n",
       "    <tr>\n",
       "      <th>Afghanistan</th>\n",
       "      <td>2.5669</td>\n",
       "      <td>0.470367</td>\n",
       "      <td>52.590000</td>\n",
       "      <td>0.396573</td>\n",
       "      <td>-0.096429</td>\n",
       "      <td>0.933687</td>\n",
       "      <td>South Asia</td>\n",
       "      <td>647500</td>\n",
       "      <td>31056997</td>\n",
       "      <td>36.0</td>\n",
       "    </tr>\n",
       "    <tr>\n",
       "      <th>Albania</th>\n",
       "      <td>4.8827</td>\n",
       "      <td>0.671070</td>\n",
       "      <td>68.708138</td>\n",
       "      <td>0.781994</td>\n",
       "      <td>-0.042309</td>\n",
       "      <td>0.896304</td>\n",
       "      <td>Central and Eastern Europe</td>\n",
       "      <td>28748</td>\n",
       "      <td>3581655</td>\n",
       "      <td>86.5</td>\n",
       "    </tr>\n",
       "    <tr>\n",
       "      <th>Algeria</th>\n",
       "      <td>5.0051</td>\n",
       "      <td>0.803385</td>\n",
       "      <td>65.905174</td>\n",
       "      <td>0.466611</td>\n",
       "      <td>-0.121105</td>\n",
       "      <td>0.735485</td>\n",
       "      <td>Middle East and North Africa</td>\n",
       "      <td>2381740</td>\n",
       "      <td>32930091</td>\n",
       "      <td>70.0</td>\n",
       "    </tr>\n",
       "    <tr>\n",
       "      <th>Argentina</th>\n",
       "      <td>5.9747</td>\n",
       "      <td>0.900568</td>\n",
       "      <td>68.803802</td>\n",
       "      <td>0.831132</td>\n",
       "      <td>-0.194914</td>\n",
       "      <td>0.842010</td>\n",
       "      <td>Latin America and Caribbean</td>\n",
       "      <td>2766890</td>\n",
       "      <td>39921833</td>\n",
       "      <td>97.1</td>\n",
       "    </tr>\n",
       "    <tr>\n",
       "      <th>Armenia</th>\n",
       "      <td>4.6768</td>\n",
       "      <td>0.757479</td>\n",
       "      <td>66.750656</td>\n",
       "      <td>0.712018</td>\n",
       "      <td>-0.138780</td>\n",
       "      <td>0.773545</td>\n",
       "      <td>Commonwealth of Independent States</td>\n",
       "      <td>29800</td>\n",
       "      <td>2976372</td>\n",
       "      <td>98.6</td>\n",
       "    </tr>\n",
       "  </tbody>\n",
       "</table>\n",
       "</div>"
      ],
      "text/plain": [
       "             happiness_score  social_support  healthy_life_expectancy  \\\n",
       "country                                                                 \n",
       "Afghanistan           2.5669        0.470367                52.590000   \n",
       "Albania               4.8827        0.671070                68.708138   \n",
       "Algeria               5.0051        0.803385                65.905174   \n",
       "Argentina             5.9747        0.900568                68.803802   \n",
       "Armenia               4.6768        0.757479                66.750656   \n",
       "\n",
       "             freedom_of_choices  generosity  perception_of_corruption  \\\n",
       "country                                                                 \n",
       "Afghanistan            0.396573   -0.096429                  0.933687   \n",
       "Albania                0.781994   -0.042309                  0.896304   \n",
       "Algeria                0.466611   -0.121105                  0.735485   \n",
       "Argentina              0.831132   -0.194914                  0.842010   \n",
       "Armenia                0.712018   -0.138780                  0.773545   \n",
       "\n",
       "                                   world_region     area  population  literacy  \n",
       "country                                                                         \n",
       "Afghanistan                          South Asia   647500    31056997      36.0  \n",
       "Albania              Central and Eastern Europe    28748     3581655      86.5  \n",
       "Algeria            Middle East and North Africa  2381740    32930091      70.0  \n",
       "Argentina           Latin America and Caribbean  2766890    39921833      97.1  \n",
       "Armenia      Commonwealth of Independent States    29800     2976372      98.6  "
      ]
     },
     "execution_count": 113,
     "metadata": {},
     "output_type": "execute_result"
    }
   ],
   "source": [
    "# Write your code here\n",
    "country_features = pd.merge(happiness, countries , left_on='country', right_on='country_name', how='outer') #to merge, they must have the same value and the same structure (case sensitive)\n",
    "del country_features['country_name']\n",
    "country_features.set_index('country').head()"
   ]
  },
  {
   "cell_type": "markdown",
   "metadata": {},
   "source": [
    "## Task 3: Where are people happier?\n",
    "\n",
    "Print the top 10 countries based on their happiness score (higher is better)."
   ]
  },
  {
   "cell_type": "code",
   "execution_count": 128,
   "metadata": {},
   "outputs": [
    {
     "name": "stdout",
     "output_type": "stream",
     "text": [
      "         country  happiness_score\n",
      "38       Finland           7.8087\n",
      "31       Denmark           7.6456\n",
      "115  Switzerland           7.5599\n",
      "50       Iceland           7.5045\n",
      "92        Norway           7.4880\n",
      "87   Netherlands           7.4489\n",
      "114       Sweden           7.3535\n",
      "88   New zealand           7.2996\n",
      "6        Austria           7.2942\n",
      "72    Luxembourg           7.2375\n"
     ]
    }
   ],
   "source": [
    "# Write your code here\n",
    "happiest_countries = country_features.sort_values(by='happiness_score', ascending=False).head(10)[['country', 'happiness_score']] #lazem gowa etnein 3shan elawal tefahhemo ennak 3ayez dol bas yezharo, wel tanya 3shan listet l columns.\n",
    "print(happiest_countries.head(10))"
   ]
  },
  {
   "cell_type": "markdown",
   "metadata": {},
   "source": [
    "We are interested to know in what world region people are happier. \n",
    "\n",
    "Create and print a dataframe with the (1) average happiness score and (2) the number of contries for each world region.\n",
    "Sort the result to show the happiness ranking."
   ]
  },
  {
   "cell_type": "code",
   "execution_count": 115,
   "metadata": {},
   "outputs": [
    {
     "data": {
      "text/plain": [
       "(                              0  happiness_score\n",
       " world_region                                    \n",
       " North America and ANZ         4         7.173525\n",
       " Western Europe               20         6.967405\n",
       " Latin America and Caribbean  20         5.971280\n",
       " Central and Eastern Europe   12         5.919925\n",
       " Southeast Asia                8         5.517788,\n",
       "                                            happiness_score  social_support  \\\n",
       " world_region               country                                           \n",
       " Central and Eastern Europe Albania                  4.8827        0.671070   \n",
       "                            Bulgaria                 5.1015        0.937840   \n",
       "                            Croatia                  5.5047        0.874624   \n",
       "                            Czech republic           6.9109        0.914431   \n",
       "                            Estonia                  6.0218        0.934730   \n",
       " \n",
       "                                            healthy_life_expectancy  \\\n",
       " world_region               country                                   \n",
       " Central and Eastern Europe Albania                       68.708138   \n",
       "                            Bulgaria                      66.803978   \n",
       "                            Croatia                       70.214905   \n",
       "                            Czech republic                70.047935   \n",
       "                            Estonia                       68.604958   \n",
       " \n",
       "                                            freedom_of_choices  generosity  \\\n",
       " world_region               country                                          \n",
       " Central and Eastern Europe Albania                   0.781994   -0.042309   \n",
       "                            Bulgaria                  0.745178   -0.143908   \n",
       "                            Croatia                   0.714839   -0.128538   \n",
       "                            Czech republic            0.818537   -0.230862   \n",
       "                            Estonia                   0.877709   -0.111698   \n",
       " \n",
       "                                            perception_of_corruption    area  \\\n",
       " world_region               country                                            \n",
       " Central and Eastern Europe Albania                         0.896304   28748   \n",
       "                            Bulgaria                        0.935585  110910   \n",
       "                            Croatia                         0.916495   56542   \n",
       "                            Czech republic                  0.858446   78866   \n",
       "                            Estonia                         0.623074   45226   \n",
       " \n",
       "                                            population  literacy  \n",
       " world_region               country                               \n",
       " Central and Eastern Europe Albania            3581655      86.5  \n",
       "                            Bulgaria           7385367      98.6  \n",
       "                            Croatia            4494749      98.5  \n",
       "                            Czech republic    10235455      99.9  \n",
       "                            Estonia            1324333      99.8  )"
      ]
     },
     "execution_count": 115,
     "metadata": {},
     "output_type": "execute_result"
    }
   ],
   "source": [
    "# Write your code here\n",
    "\"\"\"Teh following was a failed attempt, here is a better one based on recommendations from chat gpt.\"\"\"\n",
    "df_1 = country_features.set_index(['world_region', 'country']).sort_index().dropna()\n",
    "#print('df_1', df_1.head())\n",
    "#df_1aggregate = df_1.groupby('world_region')\n",
    "#print('smthg', df_1aggregate.head())\n",
    "\n",
    "#new_df = df_1aggregate['happiness_score'].mean()\n",
    "\n",
    "#new_df['country_count'] = (df_1aggregate.count(df_1aggregate.index(['country']).get_count()))\n",
    "#new_df.head()\n",
    "\n",
    "\"\"\"Let us retry!\"\"\"\n",
    "df_aggregate=  df_1.groupby('world_region')\n",
    "average_happiness= df_aggregate.mean('happiness_score')['happiness_score']\n",
    "average_happiness.head()\n",
    "countries_count = df_aggregate.size() #enta keda bet3ed fyh kam row, w bema ennak bet3ed belnesba lel groupby 'world_region', \n",
    "#fa dah equivalent le ennak te3ed 3adad el countries!\n",
    "countries_count.head()\n",
    "\n",
    "new_df = pd.concat([countries_count, average_happiness], axis=1)\n",
    "new_df = new_df.sort_values(by='happiness_score', ascending=False) #lamma t sort, lazem t store elvalues f df, \n",
    "#la2ennaha msh bet8ayyar elmawgoud, heya bte5la2 wa7ed gedyd.\n",
    "new_df.head(), df_1.head()\n",
    "\n",
    "\"\"\"could have written average_by_region = country_features.groupby(\"world_region\")['happiness_score'].agg(['mean','size'])\"\"\"\n",
    "#This code groups the DataFrame by the 'world_region' \n",
    "# column and then calculates both the mean and the size (number of countries) of each group for the 'happiness_score' column."
   ]
  },
  {
   "cell_type": "markdown",
   "metadata": {},
   "source": [
    "The first region has only a few countries! What are them and what is their score?"
   ]
  },
  {
   "cell_type": "code",
   "execution_count": 116,
   "metadata": {},
   "outputs": [
    {
     "data": {
      "text/plain": [
       "(country\n",
       " Australia        7.2228\n",
       " Canada           7.2321\n",
       " New zealand      7.2996\n",
       " United states    6.9396\n",
       " Name: happiness_score, dtype: float64,\n",
       "                                            happiness_score  social_support  \\\n",
       " world_region               country                                           \n",
       " Central and Eastern Europe Albania                  4.8827        0.671070   \n",
       "                            Bulgaria                 5.1015        0.937840   \n",
       "                            Croatia                  5.5047        0.874624   \n",
       "                            Czech republic           6.9109        0.914431   \n",
       "                            Estonia                  6.0218        0.934730   \n",
       " ...                                                    ...             ...   \n",
       " Western Europe             Portugal                 5.9109        0.886591   \n",
       "                            Spain                    6.4009        0.921125   \n",
       "                            Sweden                   7.3535        0.926311   \n",
       "                            Switzerland              7.5599        0.942847   \n",
       "                            United kingdom           7.1645        0.936683   \n",
       " \n",
       "                                            healthy_life_expectancy  \\\n",
       " world_region               country                                   \n",
       " Central and Eastern Europe Albania                       68.708138   \n",
       "                            Bulgaria                      66.803978   \n",
       "                            Croatia                       70.214905   \n",
       "                            Czech republic                70.047935   \n",
       "                            Estonia                       68.604958   \n",
       " ...                                                            ...   \n",
       " Western Europe             Portugal                      72.402023   \n",
       "                            Spain                         74.402710   \n",
       "                            Sweden                        72.600769   \n",
       "                            Switzerland                   74.102448   \n",
       "                            United kingdom                72.301605   \n",
       " \n",
       "                                            freedom_of_choices  generosity  \\\n",
       " world_region               country                                          \n",
       " Central and Eastern Europe Albania                   0.781994   -0.042309   \n",
       "                            Bulgaria                  0.745178   -0.143908   \n",
       "                            Croatia                   0.714839   -0.128538   \n",
       "                            Czech republic            0.818537   -0.230862   \n",
       "                            Estonia                   0.877709   -0.111698   \n",
       " ...                                                       ...         ...   \n",
       " Western Europe             Portugal                  0.888748   -0.220714   \n",
       "                            Spain                     0.751990   -0.050962   \n",
       "                            Sweden                    0.939144    0.111615   \n",
       "                            Switzerland               0.921337    0.105911   \n",
       "                            United kingdom            0.834744    0.263732   \n",
       " \n",
       "                                            perception_of_corruption    area  \\\n",
       " world_region               country                                            \n",
       " Central and Eastern Europe Albania                         0.896304   28748   \n",
       "                            Bulgaria                        0.935585  110910   \n",
       "                            Croatia                         0.916495   56542   \n",
       "                            Czech republic                  0.858446   78866   \n",
       "                            Estonia                         0.623074   45226   \n",
       " ...                                                             ...     ...   \n",
       " Western Europe             Portugal                        0.892630   92391   \n",
       "                            Spain                           0.765860  504782   \n",
       "                            Sweden                          0.250880  449964   \n",
       "                            Switzerland                     0.303728   41290   \n",
       "                            United kingdom                  0.435916  244820   \n",
       " \n",
       "                                            population  literacy  \n",
       " world_region               country                               \n",
       " Central and Eastern Europe Albania            3581655      86.5  \n",
       "                            Bulgaria           7385367      98.6  \n",
       "                            Croatia            4494749      98.5  \n",
       "                            Czech republic    10235455      99.9  \n",
       "                            Estonia            1324333      99.8  \n",
       " ...                                               ...       ...  \n",
       " Western Europe             Portugal          10605870      93.3  \n",
       "                            Spain             40397842      97.9  \n",
       "                            Sweden             9016596      99.0  \n",
       "                            Switzerland        7523934      99.0  \n",
       "                            United kingdom    60609153      99.0  \n",
       " \n",
       " [133 rows x 9 columns])"
      ]
     },
     "execution_count": 116,
     "metadata": {},
     "output_type": "execute_result"
    }
   ],
   "source": [
    "# Write your code here\n",
    "happiest_countries = df_1.loc['North America and ANZ']['happiness_score']\n",
    "happiest_countries, df_1\n"
   ]
  },
  {
   "cell_type": "markdown",
   "metadata": {},
   "source": [
    "## Task 4: How literate is the world?\n",
    "\n",
    "Print the names of the countries with a level of literacy of 100%. \n",
    "\n",
    "For each country, print the name and the world region in the format: *{region name} - {country name} ({happiness score})*"
   ]
  },
  {
   "cell_type": "code",
   "execution_count": 117,
   "metadata": {},
   "outputs": [
    {
     "data": {
      "text/plain": [
       "(world_region           country   \n",
       " North America and ANZ  Australia     7.2228\n",
       " Western Europe         Denmark       7.6456\n",
       "                        Finland       7.8087\n",
       "                        Luxembourg    7.2375\n",
       "                        Norway        7.4880\n",
       " Name: happiness_score, dtype: float64,\n",
       "                                            happiness_score  social_support  \\\n",
       " world_region               country                                           \n",
       " Central and Eastern Europe Albania                  4.8827        0.671070   \n",
       "                            Bulgaria                 5.1015        0.937840   \n",
       "                            Croatia                  5.5047        0.874624   \n",
       "                            Czech republic           6.9109        0.914431   \n",
       "                            Estonia                  6.0218        0.934730   \n",
       " ...                                                    ...             ...   \n",
       " Western Europe             Portugal                 5.9109        0.886591   \n",
       "                            Spain                    6.4009        0.921125   \n",
       "                            Sweden                   7.3535        0.926311   \n",
       "                            Switzerland              7.5599        0.942847   \n",
       "                            United kingdom           7.1645        0.936683   \n",
       " \n",
       "                                            healthy_life_expectancy  \\\n",
       " world_region               country                                   \n",
       " Central and Eastern Europe Albania                       68.708138   \n",
       "                            Bulgaria                      66.803978   \n",
       "                            Croatia                       70.214905   \n",
       "                            Czech republic                70.047935   \n",
       "                            Estonia                       68.604958   \n",
       " ...                                                            ...   \n",
       " Western Europe             Portugal                      72.402023   \n",
       "                            Spain                         74.402710   \n",
       "                            Sweden                        72.600769   \n",
       "                            Switzerland                   74.102448   \n",
       "                            United kingdom                72.301605   \n",
       " \n",
       "                                            freedom_of_choices  generosity  \\\n",
       " world_region               country                                          \n",
       " Central and Eastern Europe Albania                   0.781994   -0.042309   \n",
       "                            Bulgaria                  0.745178   -0.143908   \n",
       "                            Croatia                   0.714839   -0.128538   \n",
       "                            Czech republic            0.818537   -0.230862   \n",
       "                            Estonia                   0.877709   -0.111698   \n",
       " ...                                                       ...         ...   \n",
       " Western Europe             Portugal                  0.888748   -0.220714   \n",
       "                            Spain                     0.751990   -0.050962   \n",
       "                            Sweden                    0.939144    0.111615   \n",
       "                            Switzerland               0.921337    0.105911   \n",
       "                            United kingdom            0.834744    0.263732   \n",
       " \n",
       "                                            perception_of_corruption    area  \\\n",
       " world_region               country                                            \n",
       " Central and Eastern Europe Albania                         0.896304   28748   \n",
       "                            Bulgaria                        0.935585  110910   \n",
       "                            Croatia                         0.916495   56542   \n",
       "                            Czech republic                  0.858446   78866   \n",
       "                            Estonia                         0.623074   45226   \n",
       " ...                                                             ...     ...   \n",
       " Western Europe             Portugal                        0.892630   92391   \n",
       "                            Spain                           0.765860  504782   \n",
       "                            Sweden                          0.250880  449964   \n",
       "                            Switzerland                     0.303728   41290   \n",
       "                            United kingdom                  0.435916  244820   \n",
       " \n",
       "                                            population  literacy  \n",
       " world_region               country                               \n",
       " Central and Eastern Europe Albania            3581655      86.5  \n",
       "                            Bulgaria           7385367      98.6  \n",
       "                            Croatia            4494749      98.5  \n",
       "                            Czech republic    10235455      99.9  \n",
       "                            Estonia            1324333      99.8  \n",
       " ...                                               ...       ...  \n",
       " Western Europe             Portugal          10605870      93.3  \n",
       "                            Spain             40397842      97.9  \n",
       "                            Sweden             9016596      99.0  \n",
       "                            Switzerland        7523934      99.0  \n",
       "                            United kingdom    60609153      99.0  \n",
       " \n",
       " [133 rows x 9 columns])"
      ]
     },
     "execution_count": 117,
     "metadata": {},
     "output_type": "execute_result"
    }
   ],
   "source": [
    "# Write your code here\n",
    "#fully_literate_cntry = df_1\n",
    "#fully_literate_cntry = fully_literate_cntry['literacy'].describe()\n",
    "#fully_literate_cntry['literacy'].describe()\n",
    "fully_literate_cntry = df_1[df_1['literacy']==max(df_1['literacy'])]\n",
    "fully_literate_cntry['happiness_score'].head(), df_1"
   ]
  },
  {
   "cell_type": "markdown",
   "metadata": {},
   "source": [
    "What is the global average?"
   ]
  },
  {
   "cell_type": "code",
   "execution_count": 141,
   "metadata": {},
   "outputs": [
    {
     "data": {
      "text/plain": [
       "81.85112781954888"
      ]
     },
     "execution_count": 141,
     "metadata": {},
     "output_type": "execute_result"
    }
   ],
   "source": [
    "# Write your code here\n",
    "#df_1['literacy'] = df_1['literacy'].str.replace(r',', '.', 1)\n",
    "\n",
    "#df_1['literacy'] = df_1['literacy'].astype('Float32')\n",
    "df_1['literacy'].mean()"
   ]
  },
  {
   "cell_type": "markdown",
   "metadata": {},
   "source": [
    "Calculate the proportion of countries with a literacy level below 50%. Print the value in percentage, formatted with 2 decimals."
   ]
  },
  {
   "cell_type": "code",
   "execution_count": 143,
   "metadata": {},
   "outputs": [
    {
     "name": "stdout",
     "output_type": "stream",
     "text": [
      "12.03 %\n"
     ]
    }
   ],
   "source": [
    "# Write your code here\n",
    "low_literacy_cntry = df_1[df_1.literacy<50]\n",
    "low_literacy_prop = len(low_literacy_cntry)/len(df_1['literacy'])*100\n",
    "print(\"%.2f\" % low_literacy_prop, '%')"
   ]
  },
  {
   "cell_type": "markdown",
   "metadata": {},
   "source": [
    "Print the raw number and the percentage of world population that is illiterate."
   ]
  },
  {
   "cell_type": "code",
   "execution_count": 149,
   "metadata": {},
   "outputs": [
    {
     "name": "stdout",
     "output_type": "stream",
     "text": [
      "1249372988.103\n",
      "0.2035477388673602\n"
     ]
    }
   ],
   "source": [
    "# Write your code here\n",
    "#***THIS IS THE LITERACY PERCENTAGE!!!!!***\n",
    "LITERATE_people = df_1.population*(df_1.literacy/100)\n",
    "illiterate_people = df_1.population*(1-df_1.literacy/100) #!!!\n",
    "print(sum(illiterate_people))\n",
    "illiterate_proportion = sum(illiterate_people)/sum(df_1.population)\n",
    "print(illiterate_proportion)"
   ]
  },
  {
   "cell_type": "markdown",
   "metadata": {},
   "source": [
    "## Task 5: Population density\n",
    "\n",
    "Add to the dataframe a new field called *population_density* computed by dividing *population* by *area*."
   ]
  },
  {
   "cell_type": "code",
   "execution_count": 150,
   "metadata": {},
   "outputs": [],
   "source": [
    "# Write your code here\n",
    "df_1['population_density'] = df_1.population/df_1.area"
   ]
  },
  {
   "cell_type": "markdown",
   "metadata": {},
   "source": [
    "What is the happiness score of the 3 countries with the lowest population density?"
   ]
  },
  {
   "cell_type": "code",
   "execution_count": 155,
   "metadata": {},
   "outputs": [
    {
     "data": {
      "text/plain": [
       "world_region                  country  \n",
       "Southeast Asia                Singapore    6.3771\n",
       "Western Europe                Malta        6.7728\n",
       "Middle East and North Africa  Bahrain      6.2273\n",
       "Name: happiness_score, dtype: float64"
      ]
     },
     "execution_count": 155,
     "metadata": {},
     "output_type": "execute_result"
    }
   ],
   "source": [
    "# Write your code here\n",
    "df_1.sort_values(by='population_density', ascending=False)['happiness_score'].head(3)"
   ]
  },
  {
   "cell_type": "markdown",
   "metadata": {},
   "source": [
    "## Task 6: Healty and happy?\n",
    "\n",
    "Plot in a scatter plot the happiness score (x) and healty life expectancy (y)."
   ]
  },
  {
   "cell_type": "code",
   "execution_count": 164,
   "metadata": {},
   "outputs": [
    {
     "data": {
      "text/plain": [
       "<matplotlib.collections.PathCollection at 0x1c7323121a0>"
      ]
     },
     "execution_count": 164,
     "metadata": {},
     "output_type": "execute_result"
    },
    {
     "data": {
      "image/png": "[encoded data removed]",
      "text/plain": [
       "<Figure size 432x288 with 1 Axes>"
      ]
     },
     "metadata": {
      "needs_background": "light"
     },
     "output_type": "display_data"
    }
   ],
   "source": [
    "# Write your code here\n",
    "import matplotlib.pyplot as plt\n",
    "x = df_1.happiness_score\n",
    "y = df_1.healthy_life_expectancy\n",
    "plt.scatter(x, y)\n",
    "\n",
    "#could have used pandas directly to plot it: \n",
    "#country_features.plot(x=\"happiness_score\", y=\"healthy_life_expectancy\", kind=\"scatter\")"
   ]
  },
  {
   "cell_type": "markdown",
   "metadata": {},
   "source": [
    "Feel free to continue the exploration of the dataset! We'll release the solutions next week.\n",
    "\n",
    "----\n",
    "Enjoy EPFL and be happy, next year Switzerland must be #1."
   ]
  }
 ],
 "metadata": {
  "kernelspec": {
   "display_name": "Python 3 (ipykernel)",
   "language": "python",
   "name": "python3"
  },
  "language_info": {
   "codemirror_mode": {
    "name": "ipython",
    "version": 3
   },
   "file_extension": ".py",
   "mimetype": "text/x-python",
   "name": "python",
   "nbconvert_exporter": "python",
   "pygments_lexer": "ipython3",
   "version": "3.10.2"
  }
 },
 "nbformat": 4,
 "nbformat_minor": 4
}
