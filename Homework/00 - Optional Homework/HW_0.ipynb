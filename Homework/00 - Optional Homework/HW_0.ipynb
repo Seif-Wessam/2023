{
 "cells": [
  {
   "cell_type": "code",
   "execution_count": 2,
   "metadata": {},
   "outputs": [],
   "source": [
    "import numpy as np\n",
    "import matplotlib.pyplot as plt\n",
    "import seaborn as sns\n",
    "import pandas as pd\n"
   ]
  },
  {
   "cell_type": "code",
   "execution_count": 25,
   "metadata": {},
   "outputs": [
    {
     "data": {
      "text/html": [
       "<div>\n",
       "<style scoped>\n",
       "    .dataframe tbody tr th:only-of-type {\n",
       "        vertical-align: middle;\n",
       "    }\n",
       "\n",
       "    .dataframe tbody tr th {\n",
       "        vertical-align: top;\n",
       "    }\n",
       "\n",
       "    .dataframe thead th {\n",
       "        text-align: right;\n",
       "    }\n",
       "</style>\n",
       "<table border=\"1\" class=\"dataframe\">\n",
       "  <thead>\n",
       "    <tr style=\"text-align: right;\">\n",
       "      <th></th>\n",
       "      <th>Intent</th>\n",
       "      <th>Gender</th>\n",
       "      <th>Age</th>\n",
       "      <th>Race</th>\n",
       "      <th>Deaths</th>\n",
       "      <th>Population</th>\n",
       "      <th>Rate</th>\n",
       "    </tr>\n",
       "  </thead>\n",
       "  <tbody>\n",
       "    <tr>\n",
       "      <th>0</th>\n",
       "      <td>None selected</td>\n",
       "      <td>None selected</td>\n",
       "      <td>None selected</td>\n",
       "      <td>None selected</td>\n",
       "      <td>33599</td>\n",
       "      <td>316299978</td>\n",
       "      <td>10.6</td>\n",
       "    </tr>\n",
       "    <tr>\n",
       "      <th>1</th>\n",
       "      <td>None selected</td>\n",
       "      <td>None selected</td>\n",
       "      <td>None selected</td>\n",
       "      <td>White</td>\n",
       "      <td>22079</td>\n",
       "      <td>197369634</td>\n",
       "      <td>11.2</td>\n",
       "    </tr>\n",
       "    <tr>\n",
       "      <th>2</th>\n",
       "      <td>None selected</td>\n",
       "      <td>None selected</td>\n",
       "      <td>None selected</td>\n",
       "      <td>Black</td>\n",
       "      <td>7765</td>\n",
       "      <td>38896382</td>\n",
       "      <td>20.0</td>\n",
       "    </tr>\n",
       "    <tr>\n",
       "      <th>3</th>\n",
       "      <td>None selected</td>\n",
       "      <td>None selected</td>\n",
       "      <td>None selected</td>\n",
       "      <td>Hispanic</td>\n",
       "      <td>3007</td>\n",
       "      <td>54049078</td>\n",
       "      <td>5.6</td>\n",
       "    </tr>\n",
       "    <tr>\n",
       "      <th>4</th>\n",
       "      <td>None selected</td>\n",
       "      <td>None selected</td>\n",
       "      <td>None selected</td>\n",
       "      <td>Asian/Pacific Islander</td>\n",
       "      <td>442</td>\n",
       "      <td>16315561</td>\n",
       "      <td>2.7</td>\n",
       "    </tr>\n",
       "  </tbody>\n",
       "</table>\n",
       "</div>"
      ],
      "text/plain": [
       "          Intent         Gender            Age                    Race  \\\n",
       "0  None selected  None selected  None selected           None selected   \n",
       "1  None selected  None selected  None selected                   White   \n",
       "2  None selected  None selected  None selected                   Black   \n",
       "3  None selected  None selected  None selected                Hispanic   \n",
       "4  None selected  None selected  None selected  Asian/Pacific Islander   \n",
       "\n",
       "   Deaths  Population  Rate  \n",
       "0   33599   316299978  10.6  \n",
       "1   22079   197369634  11.2  \n",
       "2    7765    38896382  20.0  \n",
       "3    3007    54049078   5.6  \n",
       "4     442    16315561   2.7  "
      ]
     },
     "execution_count": 25,
     "metadata": {},
     "output_type": "execute_result"
    }
   ],
   "source": [
    "path_to_data = './interactive_data.csv'\n",
    "\n",
    "data = pd.read_csv(path_to_data, header=0)\n",
    "data = data.iloc[:, 1:]\n",
    "data.head()"
   ]
  },
  {
   "cell_type": "code",
   "execution_count": 28,
   "metadata": {},
   "outputs": [
    {
     "name": "stdout",
     "output_type": "stream",
     "text": [
      "['None selected' 'Suicide' 'Homicide' 'Accident' 'Unknown']\n",
      "0.3133747535250567\n"
     ]
    }
   ],
   "source": [
    "\"\"\"This analysis is without filtering\"\"\"\n",
    "unique_intent = data['Intent'].unique() #to get the unique values in that column\n",
    "\n",
    "suicides = data[data['Intent'] == 'Suicide'] #yeb2a data[----] 3shan teaccess eldataframe, w gowaha t7ot elcondition, w fel condition 3andak data['Intent'] == 'Suicide', 3shan yeb2a m3ak elcondition\n",
    "suicides_number = sum(suicides['Deaths'])\n",
    "total_deaths = sum(data['Deaths'])\n",
    "suicides_ratio = suicides_number/total_deaths \n",
    "print(suicides_ratio)"
   ]
  },
  {
   "cell_type": "code",
   "execution_count": 33,
   "metadata": {},
   "outputs": [
    {
     "name": "stdout",
     "output_type": "stream",
     "text": [
      "0.6268194671826165\n"
     ]
    }
   ],
   "source": [
    "\"\"\"This analysis is done wuth the filtering\"\"\"\n",
    "\n",
    "#1st, we filter the dataframe\n",
    "value_to_drop = 'None selected'\n",
    "filtered_data = data[~(data == value_to_drop).any(axis=1)]\n",
    "\n",
    "#Then, we operate the analysis on the suicide/deaths ratio.\n",
    "filtered_suicides = filtered_data[filtered_data['Intent'] == 'Suicide']\n",
    "filtered_suicides_number = sum(filtered_suicides['Deaths'])\n",
    "filtered_total_deaths = sum(filtered_data['Deaths'])\n",
    "filtered_suicide_ratio = filtered_suicides_number / filtered_total_deaths\n",
    "print(filtered_suicide_ratio)"
   ]
  },
  {
   "cell_type": "markdown",
   "metadata": {},
   "source": [
    "With a filtered_suicide_ratio = 62.68% ~ 2/3, *we have concluded the 1st assignment*"
   ]
  },
  {
   "cell_type": "code",
   "execution_count": 38,
   "metadata": {},
   "outputs": [
    {
     "name": "stdout",
     "output_type": "stream",
     "text": [
      "0.8624275809668535\n"
     ]
    }
   ],
   "source": [
    "#Getting the number of deaths by male suicides\n",
    "male_suicides = (filtered_suicides[filtered_suicides['Gender'] == 'Male'])\n",
    "male_suicides_count = sum(male_suicides['Deaths'])\n",
    "\n",
    "#Getting the total number of MALE deaths by suicide\n",
    "total_suicides_count = sum(filtered_suicides['Deaths'])\n",
    "male_suicides_ratio = male_suicides_count/total_suicides_count\n",
    "print(male_suicides_ratio)"
   ]
  },
  {
   "cell_type": "markdown",
   "metadata": {},
   "source": [
    "So we get that 86% of the Suicides are from MALES. Thus concluding the second assignment."
   ]
  },
  {
   "cell_type": "code",
   "execution_count": 40,
   "metadata": {},
   "outputs": [
    {
     "name": "stdout",
     "output_type": "stream",
     "text": [
      "0.34906980205387705\n"
     ]
    }
   ],
   "source": [
    "homicides = filtered_data[filtered_data['Intent'] == 'Homicide']\n",
    "homicides_count = sum(homicides['Deaths'])\n",
    "homicides_ratio = homicides_count / filtered_total_deaths\n",
    "print(homicides_ratio)"
   ]
  },
  {
   "cell_type": "markdown",
   "metadata": {},
   "source": [
    "Third assignment is DONE."
   ]
  },
  {
   "cell_type": "code",
   "execution_count": 46,
   "metadata": {},
   "outputs": [
    {
     "name": "stdout",
     "output_type": "stream",
     "text": [
      "0.6564324541977049\n"
     ]
    }
   ],
   "source": [
    "male_homicides = homicides[homicides['Gender'] == 'Male']\n",
    "male_homi_18_34 = male_homicides[male_homicides['Age'] == '15 - 34']\n",
    "male_homi_18_34_ratio = sum(male_homi_18_34['Deaths']) / sum(male_homicides['Deaths'])\n",
    "print(male_homi_18_34_ratio)"
   ]
  },
  {
   "cell_type": "markdown",
   "metadata": {},
   "source": [
    "Fourth task is done."
   ]
  },
  {
   "cell_type": "code",
   "execution_count": 48,
   "metadata": {},
   "outputs": [
    {
     "name": "stdout",
     "output_type": "stream",
     "text": [
      "0.15289502856655582\n"
     ]
    }
   ],
   "source": [
    "women_homicides = homicides[homicides['Gender'] == 'Female']\n",
    "women_homicides_ratio = sum(women_homicides['Deaths'])/ homicides_count\n",
    "\n",
    "print(women_homicides_ratio)"
   ]
  },
  {
   "cell_type": "markdown",
   "metadata": {},
   "source": [
    "Fifth task is done."
   ]
  }
 ],
 "metadata": {
  "kernelspec": {
   "display_name": "geoenv2022",
   "language": "python",
   "name": "python3"
  },
  "language_info": {
   "codemirror_mode": {
    "name": "ipython",
    "version": 3
   },
   "file_extension": ".py",
   "mimetype": "text/x-python",
   "name": "python",
   "nbconvert_exporter": "python",
   "pygments_lexer": "ipython3",
   "version": "3.10.2"
  },
  "orig_nbformat": 4
 },
 "nbformat": 4,
 "nbformat_minor": 2
}
